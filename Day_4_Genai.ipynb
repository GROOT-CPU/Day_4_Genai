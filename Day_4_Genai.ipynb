{
  "nbformat": 4,
  "nbformat_minor": 0,
  "metadata": {
    "colab": {
      "provenance": []
    },
    "kernelspec": {
      "name": "python3",
      "display_name": "Python 3"
    },
    "language_info": {
      "name": "python"
    }
  },
  "cells": [
    {
      "cell_type": "code",
      "source": [
        "from langchain.prompts import PromptTemplate"
      ],
      "metadata": {
        "id": "uDCDlIiVGrSC"
      },
      "execution_count": 4,
      "outputs": []
    },
    {
      "cell_type": "code",
      "source": [
        "%pip install --upgrade --quiet  langchain-google-genai"
      ],
      "metadata": {
        "colab": {
          "base_uri": "https://localhost:8080/"
        },
        "id": "XIQdbGJqNFJ0",
        "outputId": "3951ffbe-c2e4-4a74-8242-486b00d6a7f4"
      },
      "execution_count": 5,
      "outputs": [
        {
          "output_type": "stream",
          "name": "stdout",
          "text": [
            "\u001b[?25l   \u001b[90m━━━━━━━━━━━━━━━━━━━━━━━━━━━━━━━━━━━━━━━━\u001b[0m \u001b[32m0.0/41.3 kB\u001b[0m \u001b[31m?\u001b[0m eta \u001b[36m-:--:--\u001b[0m\r\u001b[2K   \u001b[90m━━━━━━━━━━━━━━━━━━━━━━━━━━━━━━━━━━━━━━━━\u001b[0m \u001b[32m41.3/41.3 kB\u001b[0m \u001b[31m1.5 MB/s\u001b[0m eta \u001b[36m0:00:00\u001b[0m\n",
            "\u001b[?25h"
          ]
        }
      ]
    },
    {
      "cell_type": "code",
      "source": [
        "from langchain_google_genai import GoogleGenerativeAI"
      ],
      "metadata": {
        "id": "9DqExqcRNQRb"
      },
      "execution_count": 6,
      "outputs": []
    },
    {
      "cell_type": "code",
      "source": [
        "from google.colab import userdata\n",
        "key=userdata.get('google_api_key')"
      ],
      "metadata": {
        "id": "mHYjBOsROlW0"
      },
      "execution_count": 7,
      "outputs": []
    },
    {
      "cell_type": "code",
      "source": [
        "model=GoogleGenerativeAI(model=\"gemini-pro\",google_api_key=key)"
      ],
      "metadata": {
        "id": "g7z2p5lPNaa0"
      },
      "execution_count": 9,
      "outputs": []
    },
    {
      "cell_type": "code",
      "source": [
        "demo_template=\"\"\" you are expert in {programming}.{query} \"\"\""
      ],
      "metadata": {
        "id": "J215toqTRCic"
      },
      "execution_count": 20,
      "outputs": []
    },
    {
      "cell_type": "code",
      "source": [
        "prompt=PromptTemplate(input_variables=[\"programming\",\"query\"],template=demo_template)"
      ],
      "metadata": {
        "id": "AAXBSWDbRNik"
      },
      "execution_count": 21,
      "outputs": []
    },
    {
      "cell_type": "code",
      "source": [
        "prompt_text=prompt.format(programming=\"java\",query=\"write a function to display the list of even numbers\")"
      ],
      "metadata": {
        "id": "cWj092JRRN-M"
      },
      "execution_count": 25,
      "outputs": []
    },
    {
      "cell_type": "code",
      "source": [
        "res=model.invoke(prompt_text)"
      ],
      "metadata": {
        "id": "XVuSh3b8O8lj"
      },
      "execution_count": 26,
      "outputs": []
    },
    {
      "cell_type": "code",
      "source": [
        "print(res)"
      ],
      "metadata": {
        "colab": {
          "base_uri": "https://localhost:8080/"
        },
        "id": "yaqAovL1PbZD",
        "outputId": "0e1f3d19-dba6-4ee6-97d4-c07650c1a957"
      },
      "execution_count": 27,
      "outputs": [
        {
          "output_type": "stream",
          "name": "stdout",
          "text": [
            "```java\n",
            "import java.util.List;\n",
            "\n",
            "public class EvenNumbers {\n",
            "\n",
            "    public static void main(String[] args) {\n",
            "        List<Integer> numbers = List.of(1, 2, 3, 4, 5, 6, 7, 8, 9, 10);\n",
            "\n",
            "        // Using a for-each loop\n",
            "        System.out.println(\"Even numbers using for-each loop:\");\n",
            "        for (int number : numbers) {\n",
            "            if (number % 2 == 0) {\n",
            "                System.out.println(number);\n",
            "            }\n",
            "        }\n",
            "\n",
            "        // Using a stream and filter\n",
            "        System.out.println(\"\\nEven numbers using stream and filter:\");\n",
            "        numbers.stream()\n",
            "                .filter(number -> number % 2 == 0)\n",
            "                .forEach(System.out::println);\n",
            "    }\n",
            "}\n",
            "```\n"
          ]
        }
      ]
    },
    {
      "cell_type": "code",
      "source": [],
      "metadata": {
        "id": "a7no2diBPg1z"
      },
      "execution_count": null,
      "outputs": []
    }
  ]
}