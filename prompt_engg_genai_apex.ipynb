{
  "nbformat": 4,
  "nbformat_minor": 0,
  "metadata": {
    "colab": {
      "provenance": []
    },
    "kernelspec": {
      "name": "python3",
      "display_name": "Python 3"
    },
    "language_info": {
      "name": "python"
    }
  },
  "cells": [
    {
      "cell_type": "code",
      "source": [
        "from langchain.prompts import PromptTemplate"
      ],
      "metadata": {
        "id": "uDCDlIiVGrSC"
      },
      "execution_count": 4,
      "outputs": []
    },
    {
      "cell_type": "code",
      "source": [
        "%pip install --upgrade --quiet  langchain-google-genai"
      ],
      "metadata": {
        "colab": {
          "base_uri": "https://localhost:8080/"
        },
        "id": "XIQdbGJqNFJ0",
        "outputId": "3951ffbe-c2e4-4a74-8242-486b00d6a7f4"
      },
      "execution_count": 5,
      "outputs": [
        {
          "output_type": "stream",
          "name": "stdout",
          "text": [
            "\u001b[?25l   \u001b[90m━━━━━━━━━━━━━━━━━━━━━━━━━━━━━━━━━━━━━━━━\u001b[0m \u001b[32m0.0/41.3 kB\u001b[0m \u001b[31m?\u001b[0m eta \u001b[36m-:--:--\u001b[0m\r\u001b[2K   \u001b[90m━━━━━━━━━━━━━━━━━━━━━━━━━━━━━━━━━━━━━━━━\u001b[0m \u001b[32m41.3/41.3 kB\u001b[0m \u001b[31m1.5 MB/s\u001b[0m eta \u001b[36m0:00:00\u001b[0m\n",
            "\u001b[?25h"
          ]
        }
      ]
    },
    {
      "cell_type": "code",
      "source": [
        "from langchain_google_genai import GoogleGenerativeAI"
      ],
      "metadata": {
        "id": "9DqExqcRNQRb"
      },
      "execution_count": 6,
      "outputs": []
    },
    {
      "cell_type": "code",
      "source": [
        "from google.colab import userdata\n",
        "key=userdata.get('google_api_key')"
      ],
      "metadata": {
        "id": "mHYjBOsROlW0"
      },
      "execution_count": 7,
      "outputs": []
    },
    {
      "cell_type": "code",
      "source": [
        "model=GoogleGenerativeAI(model=\"gemini-pro\",google_api_key=key)"
      ],
      "metadata": {
        "id": "g7z2p5lPNaa0"
      },
      "execution_count": 9,
      "outputs": []
    },
    {
      "cell_type": "code",
      "source": [
        "demo_template=\"\"\" you are expert in {programming}.{query} \"\"\""
      ],
      "metadata": {
        "id": "J215toqTRCic"
      },
      "execution_count": 20,
      "outputs": []
    },
    {
      "cell_type": "code",
      "source": [
        "prompt=PromptTemplate(input_variables=[\"programming\",\"query\"],template=demo_template)"
      ],
      "metadata": {
        "id": "AAXBSWDbRNik"
      },
      "execution_count": 21,
      "outputs": []
    },
    {
      "cell_type": "code",
      "source": [
        "prompt_text=prompt.format(programming=\"dart\",query=\"write a function to display the list of even numbers\")"
      ],
      "metadata": {
        "id": "cWj092JRRN-M"
      },
      "execution_count": 29,
      "outputs": []
    },
    {
      "cell_type": "code",
      "source": [
        "res=model.invoke(prompt_text)"
      ],
      "metadata": {
        "id": "XVuSh3b8O8lj"
      },
      "execution_count": 30,
      "outputs": []
    },
    {
      "cell_type": "code",
      "source": [
        "print(res)"
      ],
      "metadata": {
        "colab": {
          "base_uri": "https://localhost:8080/"
        },
        "id": "yaqAovL1PbZD",
        "outputId": "ef0f8516-0e2c-473f-d8f2-b18e58e321ea"
      },
      "execution_count": 31,
      "outputs": [
        {
          "output_type": "stream",
          "name": "stdout",
          "text": [
            "```dart\n",
            "void main() {\n",
            "  // Create a list of numbers\n",
            "  List<int> numbers = [1, 2, 3, 4, 5, 6, 7, 8, 9, 10];\n",
            "\n",
            "  // Filter the list to get only the even numbers\n",
            "  List<int> evenNumbers = numbers.where((number) => number % 2 == 0).toList();\n",
            "\n",
            "  // Display the list of even numbers\n",
            "  print(evenNumbers); // Output: [2, 4, 6, 8, 10]\n",
            "}\n",
            "```\n"
          ]
        }
      ]
    },
    {
      "cell_type": "code",
      "source": [
        "from langchain.chains import LLMChain"
      ],
      "metadata": {
        "id": "a7no2diBPg1z"
      },
      "execution_count": 28,
      "outputs": []
    },
    {
      "cell_type": "code",
      "source": [
        "llm_chain=LLMChain(prompt=prompt,llm=model)"
      ],
      "metadata": {
        "id": "VCoOLoNtfh7G"
      },
      "execution_count": 33,
      "outputs": []
    },
    {
      "cell_type": "code",
      "source": [
        "print(llm_chain.run({\"programming\":\"python\",\"query\":\"write a function to print the calendar for the year 2025\"}))"
      ],
      "metadata": {
        "colab": {
          "base_uri": "https://localhost:8080/"
        },
        "id": "3sDFDc7FfnvW",
        "outputId": "35009fc7-ee6f-4ca2-f695-2bdadbb510b3"
      },
      "execution_count": 37,
      "outputs": [
        {
          "output_type": "stream",
          "name": "stdout",
          "text": [
            "```python\n",
            "import calendar\n",
            "\n",
            "def print_calendar(year):\n",
            "  \"\"\"Prints the calendar for the given year.\"\"\"\n",
            "\n",
            "  # Get the calendar data for the year.\n",
            "  calendar_data = calendar.calendar(year)\n",
            "\n",
            "  # Print the calendar header.\n",
            "  print(\"   January                   February                   March\")\n",
            "  print(\"------------------------------------------------------------\")\n",
            "  print(\" Su Mo Tu We Th Fr Sa  Su Mo Tu We Th Fr Sa  Su Mo Tu We Th Fr Sa\")\n",
            "\n",
            "  # Print the calendar rows.\n",
            "  for row in calendar_data:\n",
            "    print(\" \".join(row))\n",
            "\n",
            "  # Print a newline at the end.\n",
            "  print()\n",
            "\n",
            "\n",
            "# Print the calendar for the year 2025.\n",
            "print_calendar(2025)\n",
            "```\n"
          ]
        }
      ]
    },
    {
      "cell_type": "code",
      "source": [],
      "metadata": {
        "id": "JzPh1aNygNYP"
      },
      "execution_count": null,
      "outputs": []
    }
  ]
}